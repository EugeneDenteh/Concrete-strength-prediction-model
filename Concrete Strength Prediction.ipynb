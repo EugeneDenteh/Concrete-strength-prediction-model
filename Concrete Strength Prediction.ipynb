{
 "cells": [
  {
   "cell_type": "code",
   "execution_count": 1,
   "id": "44ef26cb-b133-4be9-a8ad-9b126c803b75",
   "metadata": {},
   "outputs": [],
   "source": [
    "import numpy as np\n",
    "import pandas as pd\n",
    "import matplotlib.pyplot as plt\n",
    "%matplotlib inline\n",
    "import seaborn as sns"
   ]
  },
  {
   "cell_type": "code",
   "execution_count": 2,
   "id": "03e70c9b-c3dc-4c82-97d0-e88d1f10d021",
   "metadata": {},
   "outputs": [
    {
     "data": {
      "text/html": [
       "<div>\n",
       "<style scoped>\n",
       "    .dataframe tbody tr th:only-of-type {\n",
       "        vertical-align: middle;\n",
       "    }\n",
       "\n",
       "    .dataframe tbody tr th {\n",
       "        vertical-align: top;\n",
       "    }\n",
       "\n",
       "    .dataframe thead th {\n",
       "        text-align: right;\n",
       "    }\n",
       "</style>\n",
       "<table border=\"1\" class=\"dataframe\">\n",
       "  <thead>\n",
       "    <tr style=\"text-align: right;\">\n",
       "      <th></th>\n",
       "      <th>cement</th>\n",
       "      <th>slag</th>\n",
       "      <th>flyash</th>\n",
       "      <th>water</th>\n",
       "      <th>superplasticizer</th>\n",
       "      <th>coarseaggregate</th>\n",
       "      <th>fineaggregate</th>\n",
       "      <th>age</th>\n",
       "      <th>csMPa</th>\n",
       "    </tr>\n",
       "  </thead>\n",
       "  <tbody>\n",
       "    <tr>\n",
       "      <th>0</th>\n",
       "      <td>540.0</td>\n",
       "      <td>0.0</td>\n",
       "      <td>0.0</td>\n",
       "      <td>162.0</td>\n",
       "      <td>2.5</td>\n",
       "      <td>1040.0</td>\n",
       "      <td>676.0</td>\n",
       "      <td>28</td>\n",
       "      <td>79.99</td>\n",
       "    </tr>\n",
       "    <tr>\n",
       "      <th>1</th>\n",
       "      <td>540.0</td>\n",
       "      <td>0.0</td>\n",
       "      <td>0.0</td>\n",
       "      <td>162.0</td>\n",
       "      <td>2.5</td>\n",
       "      <td>1055.0</td>\n",
       "      <td>676.0</td>\n",
       "      <td>28</td>\n",
       "      <td>61.89</td>\n",
       "    </tr>\n",
       "    <tr>\n",
       "      <th>2</th>\n",
       "      <td>332.5</td>\n",
       "      <td>142.5</td>\n",
       "      <td>0.0</td>\n",
       "      <td>228.0</td>\n",
       "      <td>0.0</td>\n",
       "      <td>932.0</td>\n",
       "      <td>594.0</td>\n",
       "      <td>270</td>\n",
       "      <td>40.27</td>\n",
       "    </tr>\n",
       "    <tr>\n",
       "      <th>3</th>\n",
       "      <td>332.5</td>\n",
       "      <td>142.5</td>\n",
       "      <td>0.0</td>\n",
       "      <td>228.0</td>\n",
       "      <td>0.0</td>\n",
       "      <td>932.0</td>\n",
       "      <td>594.0</td>\n",
       "      <td>365</td>\n",
       "      <td>41.05</td>\n",
       "    </tr>\n",
       "    <tr>\n",
       "      <th>4</th>\n",
       "      <td>198.6</td>\n",
       "      <td>132.4</td>\n",
       "      <td>0.0</td>\n",
       "      <td>192.0</td>\n",
       "      <td>0.0</td>\n",
       "      <td>978.4</td>\n",
       "      <td>825.5</td>\n",
       "      <td>360</td>\n",
       "      <td>44.30</td>\n",
       "    </tr>\n",
       "    <tr>\n",
       "      <th>...</th>\n",
       "      <td>...</td>\n",
       "      <td>...</td>\n",
       "      <td>...</td>\n",
       "      <td>...</td>\n",
       "      <td>...</td>\n",
       "      <td>...</td>\n",
       "      <td>...</td>\n",
       "      <td>...</td>\n",
       "      <td>...</td>\n",
       "    </tr>\n",
       "    <tr>\n",
       "      <th>1025</th>\n",
       "      <td>276.4</td>\n",
       "      <td>116.0</td>\n",
       "      <td>90.3</td>\n",
       "      <td>179.6</td>\n",
       "      <td>8.9</td>\n",
       "      <td>870.1</td>\n",
       "      <td>768.3</td>\n",
       "      <td>28</td>\n",
       "      <td>44.28</td>\n",
       "    </tr>\n",
       "    <tr>\n",
       "      <th>1026</th>\n",
       "      <td>322.2</td>\n",
       "      <td>0.0</td>\n",
       "      <td>115.6</td>\n",
       "      <td>196.0</td>\n",
       "      <td>10.4</td>\n",
       "      <td>817.9</td>\n",
       "      <td>813.4</td>\n",
       "      <td>28</td>\n",
       "      <td>31.18</td>\n",
       "    </tr>\n",
       "    <tr>\n",
       "      <th>1027</th>\n",
       "      <td>148.5</td>\n",
       "      <td>139.4</td>\n",
       "      <td>108.6</td>\n",
       "      <td>192.7</td>\n",
       "      <td>6.1</td>\n",
       "      <td>892.4</td>\n",
       "      <td>780.0</td>\n",
       "      <td>28</td>\n",
       "      <td>23.70</td>\n",
       "    </tr>\n",
       "    <tr>\n",
       "      <th>1028</th>\n",
       "      <td>159.1</td>\n",
       "      <td>186.7</td>\n",
       "      <td>0.0</td>\n",
       "      <td>175.6</td>\n",
       "      <td>11.3</td>\n",
       "      <td>989.6</td>\n",
       "      <td>788.9</td>\n",
       "      <td>28</td>\n",
       "      <td>32.77</td>\n",
       "    </tr>\n",
       "    <tr>\n",
       "      <th>1029</th>\n",
       "      <td>260.9</td>\n",
       "      <td>100.5</td>\n",
       "      <td>78.3</td>\n",
       "      <td>200.6</td>\n",
       "      <td>8.6</td>\n",
       "      <td>864.5</td>\n",
       "      <td>761.5</td>\n",
       "      <td>28</td>\n",
       "      <td>32.40</td>\n",
       "    </tr>\n",
       "  </tbody>\n",
       "</table>\n",
       "<p>1030 rows × 9 columns</p>\n",
       "</div>"
      ],
      "text/plain": [
       "      cement   slag  flyash  water  superplasticizer  coarseaggregate  \\\n",
       "0      540.0    0.0     0.0  162.0               2.5           1040.0   \n",
       "1      540.0    0.0     0.0  162.0               2.5           1055.0   \n",
       "2      332.5  142.5     0.0  228.0               0.0            932.0   \n",
       "3      332.5  142.5     0.0  228.0               0.0            932.0   \n",
       "4      198.6  132.4     0.0  192.0               0.0            978.4   \n",
       "...      ...    ...     ...    ...               ...              ...   \n",
       "1025   276.4  116.0    90.3  179.6               8.9            870.1   \n",
       "1026   322.2    0.0   115.6  196.0              10.4            817.9   \n",
       "1027   148.5  139.4   108.6  192.7               6.1            892.4   \n",
       "1028   159.1  186.7     0.0  175.6              11.3            989.6   \n",
       "1029   260.9  100.5    78.3  200.6               8.6            864.5   \n",
       "\n",
       "      fineaggregate  age  csMPa  \n",
       "0             676.0   28  79.99  \n",
       "1             676.0   28  61.89  \n",
       "2             594.0  270  40.27  \n",
       "3             594.0  365  41.05  \n",
       "4             825.5  360  44.30  \n",
       "...             ...  ...    ...  \n",
       "1025          768.3   28  44.28  \n",
       "1026          813.4   28  31.18  \n",
       "1027          780.0   28  23.70  \n",
       "1028          788.9   28  32.77  \n",
       "1029          761.5   28  32.40  \n",
       "\n",
       "[1030 rows x 9 columns]"
      ]
     },
     "execution_count": 2,
     "metadata": {},
     "output_type": "execute_result"
    }
   ],
   "source": [
    "Conc_data=pd.read_csv('Concrete_Data.csv')\n",
    "Conc_data"
   ]
  },
  {
   "cell_type": "code",
   "execution_count": 3,
   "id": "f2ec284d-1b4a-4ec6-a374-4f80cd6cb9b2",
   "metadata": {},
   "outputs": [
    {
     "data": {
      "text/plain": [
       "(1030, 9)"
      ]
     },
     "execution_count": 3,
     "metadata": {},
     "output_type": "execute_result"
    }
   ],
   "source": [
    "Conc_data.shape"
   ]
  },
  {
   "cell_type": "code",
   "execution_count": 4,
   "id": "66361f86-b440-46b0-b111-b5274a2bd966",
   "metadata": {},
   "outputs": [
    {
     "data": {
      "text/plain": [
       "cement              float64\n",
       "slag                float64\n",
       "flyash              float64\n",
       "water               float64\n",
       "superplasticizer    float64\n",
       "coarseaggregate     float64\n",
       "fineaggregate       float64\n",
       "age                   int64\n",
       "csMPa               float64\n",
       "dtype: object"
      ]
     },
     "execution_count": 4,
     "metadata": {},
     "output_type": "execute_result"
    }
   ],
   "source": [
    "Conc_data.dtypes"
   ]
  },
  {
   "cell_type": "code",
   "execution_count": 5,
   "id": "10fd3205-1159-4550-897e-6faa1c36cee1",
   "metadata": {
    "tags": []
   },
   "outputs": [
    {
     "data": {
      "text/plain": [
       "33.40    6\n",
       "77.30    4\n",
       "79.30    4\n",
       "31.35    4\n",
       "71.30    4\n",
       "        ..\n",
       "47.40    1\n",
       "51.96    1\n",
       "56.74    1\n",
       "17.57    1\n",
       "32.77    1\n",
       "Name: csMPa, Length: 845, dtype: int64"
      ]
     },
     "execution_count": 5,
     "metadata": {},
     "output_type": "execute_result"
    }
   ],
   "source": [
    "Conc_data.csMPa.value_counts()"
   ]
  },
  {
   "cell_type": "code",
   "execution_count": 6,
   "id": "2b83c720-3bc6-41ba-9f96-caa1ffc32ebd",
   "metadata": {
    "tags": []
   },
   "outputs": [
    {
     "data": {
      "text/plain": [
       "cement              0\n",
       "slag                0\n",
       "flyash              0\n",
       "water               0\n",
       "superplasticizer    0\n",
       "coarseaggregate     0\n",
       "fineaggregate       0\n",
       "age                 0\n",
       "csMPa               0\n",
       "dtype: int64"
      ]
     },
     "execution_count": 6,
     "metadata": {},
     "output_type": "execute_result"
    }
   ],
   "source": [
    "Conc_data.isna().sum()"
   ]
  },
  {
   "cell_type": "code",
   "execution_count": 7,
   "id": "b94d226f-e41a-4a42-8852-70709f632743",
   "metadata": {},
   "outputs": [],
   "source": [
    "from sklearn.model_selection import train_test_split\n",
    "x=Conc_data.drop('csMPa',axis=1)\n",
    "y=Conc_data['csMPa']"
   ]
  },
  {
   "cell_type": "code",
   "execution_count": 8,
   "id": "254c73c1-a117-45a8-9eb6-8623273ad93f",
   "metadata": {},
   "outputs": [],
   "source": [
    "x_train,x_test,y_train,y_test=train_test_split(x,y,test_size=0.25,random_state=10)"
   ]
  },
  {
   "cell_type": "code",
   "execution_count": 9,
   "id": "5feb760c-82c3-46ad-8834-47a04421d5f4",
   "metadata": {},
   "outputs": [
    {
     "data": {
      "text/plain": [
       "Lasso(alpha=0.1)"
      ]
     },
     "execution_count": 9,
     "metadata": {},
     "output_type": "execute_result"
    }
   ],
   "source": [
    "from sklearn import linear_model\n",
    "reg = linear_model.Lasso(alpha=0.1)\n",
    "reg.fit(x_train,y_train)"
   ]
  },
  {
   "cell_type": "markdown",
   "id": "e5dd03b8-0303-4d3e-8134-edf3aa3f7ecc",
   "metadata": {},
   "source": [
    "### Evaluation by Score method"
   ]
  },
  {
   "cell_type": "code",
   "execution_count": 10,
   "id": "47df04f5-be52-4a11-976e-c4a09a940f72",
   "metadata": {},
   "outputs": [
    {
     "data": {
      "text/plain": [
       "0.6128936724346628"
      ]
     },
     "execution_count": 10,
     "metadata": {},
     "output_type": "execute_result"
    }
   ],
   "source": [
    "reg.score(x_test,y_test)"
   ]
  },
  {
   "cell_type": "markdown",
   "id": "d34ed935-032d-43ec-a847-965dbaf6d96d",
   "metadata": {},
   "source": [
    "### Evaluation by Cross Validation"
   ]
  },
  {
   "cell_type": "code",
   "execution_count": 11,
   "id": "f36b5ca9-adcd-4881-a63b-7a31dc257e24",
   "metadata": {},
   "outputs": [
    {
     "data": {
      "text/plain": [
       "array([0.33349165, 0.41130792, 0.45124798, 0.60680093, 0.50463913])"
      ]
     },
     "execution_count": 11,
     "metadata": {},
     "output_type": "execute_result"
    }
   ],
   "source": [
    "from sklearn.model_selection import cross_val_score\n",
    "cross_val_score=cross_val_score(reg,x,y,cv=5)\n",
    "cross_val_score"
   ]
  },
  {
   "cell_type": "code",
   "execution_count": 12,
   "id": "f7d1d9e4-7b52-4e5e-aab2-43a9e8b34a81",
   "metadata": {},
   "outputs": [
    {
     "data": {
      "text/plain": [
       "0.4614975210525218"
      ]
     },
     "execution_count": 12,
     "metadata": {},
     "output_type": "execute_result"
    }
   ],
   "source": [
    "np.mean(cross_val_score)"
   ]
  },
  {
   "cell_type": "code",
   "execution_count": 13,
   "id": "da30cc83-c322-459e-9f53-272ebc8a9f8a",
   "metadata": {},
   "outputs": [],
   "source": [
    "y_pred=reg.predict(x_test)"
   ]
  },
  {
   "cell_type": "code",
   "execution_count": 14,
   "id": "74e8769d-8ae5-46c8-98ba-0e06dbaa115b",
   "metadata": {},
   "outputs": [
    {
     "data": {
      "text/plain": [
       "{'alpha': 0.1,\n",
       " 'copy_X': True,\n",
       " 'fit_intercept': True,\n",
       " 'max_iter': 1000,\n",
       " 'normalize': 'deprecated',\n",
       " 'positive': False,\n",
       " 'precompute': False,\n",
       " 'random_state': None,\n",
       " 'selection': 'cyclic',\n",
       " 'tol': 0.0001,\n",
       " 'warm_start': False}"
      ]
     },
     "execution_count": 14,
     "metadata": {},
     "output_type": "execute_result"
    }
   ],
   "source": [
    "reg.get_params()"
   ]
  },
  {
   "cell_type": "code",
   "execution_count": 15,
   "id": "0931bdc5-22b5-4cf5-bebb-7bf7e9a4dcb4",
   "metadata": {
    "tags": []
   },
   "outputs": [
    {
     "name": "stdout",
     "output_type": "stream",
     "text": [
      "{'alpha': 0.001, 'selection': 'random', 'tol': 0.01, 'warm_start': True}\n",
      "0.6041153119480485\n"
     ]
    }
   ],
   "source": [
    "from sklearn.model_selection import GridSearchCV\n",
    "from sklearn.linear_model import Lasso\n",
    "from sklearn.metrics import mean_squared_error\n",
    "params = {'alpha': [0.001,0.1,1,100],\n",
    "         'tol':[0.01,0.1,100,1000],\n",
    "         'warm_start':[True],\n",
    "         'selection':['random']}\n",
    "lasso=Lasso()\n",
    "lasso_model = GridSearchCV(lasso, params, cv = 5)\n",
    "lasso_model.fit(x_train, y_train)\n",
    "best_lasso_model = lasso_model.best_estimator_\n",
    "print(lasso_model.best_params_)\n",
    "print(lasso_model.best_score_)"
   ]
  },
  {
   "cell_type": "code",
   "execution_count": 16,
   "id": "84bca55b-b865-4e52-aeb9-be4b06b6a5d4",
   "metadata": {},
   "outputs": [
    {
     "data": {
      "image/png": "[encoded data removed]",
      "text/plain": [
       "<Figure size 640x480 with 1 Axes>"
      ]
     },
     "metadata": {},
     "output_type": "display_data"
    }
   ],
   "source": [
    "import matplotlib.pyplot as plt\n",
    "import numpy as np\n",
    "\n",
    "# Assuming 'y_true' is the actual target values, and 'y_pred' is the predicted values.\n",
    "plt.scatter(y_test, y_pred)\n",
    "plt.plot([min(y_test), max(y_test)], [min(y_test), max(y_test)], color='red', linestyle='--')\n",
    "plt.xlabel(\"Actual Values\")\n",
    "plt.ylabel(\"Predicted Values\")\n",
    "plt.title(\"Model Fit: Actual vs. Predicted\")\n",
    "plt.show()\n"
   ]
  },
  {
   "cell_type": "markdown",
   "id": "93ce612e-74bc-4b87-b01c-50829942a487",
   "metadata": {},
   "source": [
    "## Using Ridge regression model"
   ]
  },
  {
   "cell_type": "code",
   "execution_count": 17,
   "id": "0f5ee01f-c3a7-4a8e-b0a1-2e5b1bb8a48b",
   "metadata": {},
   "outputs": [
    {
     "data": {
      "text/plain": [
       "Ridge(alpha=0.5)"
      ]
     },
     "execution_count": 17,
     "metadata": {},
     "output_type": "execute_result"
    }
   ],
   "source": [
    "from sklearn import linear_model\n",
    "lr_model = linear_model.Ridge(alpha=.5)\n",
    "lr_model.fit(x_train,y_train)"
   ]
  },
  {
   "cell_type": "markdown",
   "id": "d942013d-30ff-485c-9ab4-9f92a375e6ef",
   "metadata": {},
   "source": [
    "### Evaluating the model using the score method"
   ]
  },
  {
   "cell_type": "code",
   "execution_count": 18,
   "id": "55b1d9b8-7403-475c-8724-74bd4bb28454",
   "metadata": {},
   "outputs": [
    {
     "data": {
      "text/plain": [
       "0.6129553162941959"
      ]
     },
     "execution_count": 18,
     "metadata": {},
     "output_type": "execute_result"
    }
   ],
   "source": [
    "lr_model.score(x_test,y_test)"
   ]
  },
  {
   "cell_type": "markdown",
   "id": "7a4dde7a-6597-40c3-a573-e0d2054fcb4a",
   "metadata": {},
   "source": [
    "### Evaluating the model using the cross validation method"
   ]
  },
  {
   "cell_type": "code",
   "execution_count": 19,
   "id": "ebf0ef8d-4612-40b6-beae-25a9df8c6a08",
   "metadata": {},
   "outputs": [
    {
     "data": {
      "text/plain": [
       "array([0.3301647 , 0.41207015, 0.4517547 , 0.6072496 , 0.50374536])"
      ]
     },
     "execution_count": 19,
     "metadata": {},
     "output_type": "execute_result"
    }
   ],
   "source": [
    "from sklearn.model_selection import cross_val_score\n",
    "cross_val_score2=cross_val_score(lr_model,x,y,cv=5)\n",
    "cross_val_score2"
   ]
  },
  {
   "cell_type": "code",
   "execution_count": 20,
   "id": "e465946d-8a92-48ec-a2bc-81081f42d2fa",
   "metadata": {},
   "outputs": [
    {
     "data": {
      "text/plain": [
       "{'alpha': 0.5,\n",
       " 'copy_X': True,\n",
       " 'fit_intercept': True,\n",
       " 'max_iter': None,\n",
       " 'normalize': 'deprecated',\n",
       " 'positive': False,\n",
       " 'random_state': None,\n",
       " 'solver': 'auto',\n",
       " 'tol': 0.001}"
      ]
     },
     "execution_count": 20,
     "metadata": {},
     "output_type": "execute_result"
    }
   ],
   "source": [
    "lr_model.get_params()"
   ]
  },
  {
   "cell_type": "code",
   "execution_count": 21,
   "id": "fc10ab8b-b9e5-4d17-b68c-d52f8e500420",
   "metadata": {},
   "outputs": [],
   "source": [
    "np.random.seed(42)\n",
    "# Lets shuffle the data\n",
    "Conc_data_shuffled=Conc_data.sample(frac=1)\n",
    "#Splitting\n",
    "x_s=Conc_data_shuffled.drop('csMPa',axis=1)\n",
    "y_s=Conc_data_shuffled['csMPa']\n"
   ]
  },
  {
   "cell_type": "code",
   "execution_count": 22,
   "id": "54b3f0ae-b2d3-4618-b047-8e4ad8b55dc1",
   "metadata": {},
   "outputs": [
    {
     "data": {
      "text/plain": [
       "((1030, 8), (1030,))"
      ]
     },
     "execution_count": 22,
     "metadata": {},
     "output_type": "execute_result"
    }
   ],
   "source": [
    "x_s.shape,y_s.shape"
   ]
  },
  {
   "cell_type": "code",
   "execution_count": 23,
   "id": "76ce47b3-2a49-4228-a1ab-eafbe2d27b84",
   "metadata": {},
   "outputs": [],
   "source": [
    "x_train_s,x_test_s,y_train_s,y_test_s=train_test_split(x_s,y_s,test_size=0.15,random_state=0)"
   ]
  },
  {
   "cell_type": "code",
   "execution_count": 24,
   "id": "9c9e73c3-ea9e-4dbd-8f1f-ef1b1c4552fa",
   "metadata": {},
   "outputs": [],
   "source": [
    "model_s=linear_model.Ridge()"
   ]
  },
  {
   "cell_type": "code",
   "execution_count": 25,
   "id": "79abced7-c165-4dc2-8d95-69b8de2f1c39",
   "metadata": {},
   "outputs": [
    {
     "data": {
      "text/plain": [
       "((875, 8), (875,))"
      ]
     },
     "execution_count": 25,
     "metadata": {},
     "output_type": "execute_result"
    }
   ],
   "source": [
    "x_train_s.shape,y_train_s.shape"
   ]
  },
  {
   "cell_type": "code",
   "execution_count": 26,
   "id": "2ef78861-ad37-4eaf-8b7f-c95343e1afc5",
   "metadata": {},
   "outputs": [
    {
     "data": {
      "text/plain": [
       "0.6564448461313568"
      ]
     },
     "execution_count": 26,
     "metadata": {},
     "output_type": "execute_result"
    }
   ],
   "source": [
    "model_s.fit(x_train_s,y_train_s)\n",
    "model_s.score(x_test_s,y_test_s)"
   ]
  },
  {
   "cell_type": "code",
   "execution_count": 27,
   "id": "8ec0e142-d8ed-467b-a731-97e799fb7519",
   "metadata": {},
   "outputs": [
    {
     "name": "stdout",
     "output_type": "stream",
     "text": [
      "{'alpha': 100, 'tol': 0.01}\n",
      "0.5909451319582534\n"
     ]
    }
   ],
   "source": [
    "from sklearn.model_selection import GridSearchCV\n",
    "from sklearn.metrics import mean_squared_error\n",
    "params = {'alpha': [0.001,0.01,10,100],\n",
    "         'tol':[0.01,1,20,1000],\n",
    "         }\n",
    "lr_model2=model_s\n",
    "ridge_model = GridSearchCV(lr_model2, params, cv = 5)\n",
    "ridge_model.fit(x_train_s, y_train_s)\n",
    "best_ridge_model = ridge_model.best_estimator_\n",
    "print(ridge_model.best_params_)\n",
    "print(ridge_model.best_score_)"
   ]
  },
  {
   "cell_type": "markdown",
   "id": "3bc976d9-0dc7-41d8-922b-77d2fb547212",
   "metadata": {},
   "source": [
    "## Using Decision Tree Regression"
   ]
  },
  {
   "cell_type": "code",
   "execution_count": 29,
   "id": "d65aade0-e64c-4806-acc0-b5386501c7d6",
   "metadata": {},
   "outputs": [
    {
     "data": {
      "text/plain": [
       "DecisionTreeRegressor()"
      ]
     },
     "execution_count": 29,
     "metadata": {},
     "output_type": "execute_result"
    }
   ],
   "source": [
    "from sklearn import tree\n",
    "model_tree = tree.DecisionTreeRegressor()\n",
    "model_tree.fit(x_train,y_train)"
   ]
  },
  {
   "cell_type": "code",
   "execution_count": 30,
   "id": "80d37200-1c4c-4508-b517-bdec791d25a5",
   "metadata": {},
   "outputs": [
    {
     "data": {
      "text/plain": [
       "0.8730591901026945"
      ]
     },
     "execution_count": 30,
     "metadata": {},
     "output_type": "execute_result"
    }
   ],
   "source": [
    "model_tree.score(x_test,y_test)"
   ]
  },
  {
   "cell_type": "markdown",
   "id": "751b5fbb-c94f-4824-9493-8ec7c9e4ec6d",
   "metadata": {},
   "source": [
    "The decision tree appears to be the best estimator for this because it is not affected by data with poor scaling issues.Tree-based algorithms are fairly insensitive to the scale of the features. Think about it, a decision tree only splits a node based on a single feature. The decision tree splits a node on a feature that increases the homogeneity of the node. Other features do not influence this split on a feature.\n",
    "\n",
    "So, the remaining features have virtually no effect on the split. This is what makes them invariant to the scale of the features!"
   ]
  },
  {
   "cell_type": "code",
   "execution_count": 31,
   "id": "ad9abfb8-da9a-4779-b39f-6fb7dba6a81f",
   "metadata": {},
   "outputs": [
    {
     "data": {
      "text/plain": [
       "{'ccp_alpha': 0.0,\n",
       " 'criterion': 'squared_error',\n",
       " 'max_depth': None,\n",
       " 'max_features': None,\n",
       " 'max_leaf_nodes': None,\n",
       " 'min_impurity_decrease': 0.0,\n",
       " 'min_samples_leaf': 1,\n",
       " 'min_samples_split': 2,\n",
       " 'min_weight_fraction_leaf': 0.0,\n",
       " 'random_state': None,\n",
       " 'splitter': 'best'}"
      ]
     },
     "execution_count": 31,
     "metadata": {},
     "output_type": "execute_result"
    }
   ],
   "source": [
    "model_tree.get_params()"
   ]
  },
  {
   "cell_type": "code",
   "execution_count": 47,
   "id": "577540a8-7d5d-4c8e-a65e-20e4b5f8d0cf",
   "metadata": {},
   "outputs": [
    {
     "data": {
      "text/plain": [
       "'squared_error'"
      ]
     },
     "execution_count": 47,
     "metadata": {},
     "output_type": "execute_result"
    }
   ],
   "source": [
    "model_tree.criterion"
   ]
  },
  {
   "cell_type": "code",
   "execution_count": 72,
   "id": "47e0c8ae-55fe-41d1-8bc6-2d173a04cdd1",
   "metadata": {},
   "outputs": [
    {
     "name": "stdout",
     "output_type": "stream",
     "text": [
      "{'ccp_alpha': 0.1, 'criterion': 'friedman_mse', 'max_depth': 100, 'min_impurity_decrease': 1, 'min_samples_leaf': 1, 'min_samples_split': 2, 'splitter': 'best'}\n",
      "0.8006385437674834\n"
     ]
    }
   ],
   "source": [
    "from sklearn.model_selection import GridSearchCV\n",
    "from sklearn.metrics import mean_squared_error\n",
    "params = {'ccp_alpha': [0.1,1,10],\n",
    "         'min_impurity_decrease':[0.01,1,10],\n",
    "         'min_samples_split':[2,0.1,10],\n",
    "          'min_samples_leaf':[0.01,0.1,1],\n",
    "          'criterion':['friedman_mse'],\n",
    "          'max_depth':[20,0.2,100],\n",
    "         'splitter':['best']}\n",
    "tree_model = GridSearchCV(model_tree, params, cv = 5)\n",
    "tree_model.fit(x_train, y_train)\n",
    "best_tree_model = tree_model.best_estimator_\n",
    "print(tree_model.best_params_)\n",
    "print(tree_model.best_score_)"
   ]
  },
  {
   "cell_type": "code",
   "execution_count": 74,
   "id": "cf4a3da4-a16a-4a8f-8e74-26473028384b",
   "metadata": {},
   "outputs": [],
   "source": [
    "y_pred2=tree_model.predict(x_test)"
   ]
  },
  {
   "cell_type": "code",
   "execution_count": 75,
   "id": "87e9f491-2100-4f33-8c2c-cb6c37ba50ac",
   "metadata": {},
   "outputs": [
    {
     "data": {
      "image/png": "[encoded data removed]",
      "text/plain": [
       "<Figure size 640x480 with 1 Axes>"
      ]
     },
     "metadata": {},
     "output_type": "display_data"
    }
   ],
   "source": [
    "# Assuming 'y_true' is the actual target values, and 'y_pred' is the predicted values.\n",
    "plt.scatter(y_test, y_pred2)\n",
    "plt.plot([min(y_test), max(y_test)], [min(y_test), max(y_test)], color='red', linestyle='--')\n",
    "plt.xlabel(\"Actual Values\")\n",
    "plt.ylabel(\"Predicted Values\")\n",
    "plt.title(\"Model Fit: Actual vs. Predicted\")\n",
    "plt.show()\n"
   ]
  },
  {
   "cell_type": "markdown",
   "id": "0581c52a-df02-4085-bf4a-c4b91ddbf26b",
   "metadata": {},
   "source": [
    "## Feature scaling"
   ]
  },
  {
   "cell_type": "markdown",
   "id": "83ddbdf6-2351-4275-8131-b9381f7b7019",
   "metadata": {},
   "source": [
    "Feature scaling is a crucial preprocessing step in many machine learning and data analysis tasks. It involves transforming the values of your dataset's features into a common scale. This is important because many machine learning algorithms are sensitive to the magnitude of the input features, and having features on different scales can lead to issues during model training and prediction."
   ]
  },
  {
   "cell_type": "markdown",
   "id": "06f899c6-b218-4f32-a746-d090f936cff2",
   "metadata": {},
   "source": [
    "### Normalization (Min-Max Scaling)\n",
    "Normalization scales all feature values to a range between 0 and 1. This is achieved by subtracting the minimum value of the feature from each data point and then dividing it by the range (the difference between the maximum and minimum values).\n",
    "Find more info [here](https://scikit-learn.org/stable/modules/preprocessing.html) "
   ]
  },
  {
   "cell_type": "code",
   "execution_count": 76,
   "id": "ccc5c50a-f916-4f16-ab49-156a9d750d64",
   "metadata": {},
   "outputs": [],
   "source": [
    "from sklearn import preprocessing\n",
    "Normal=preprocessing.MinMaxScaler()"
   ]
  },
  {
   "cell_type": "code",
   "execution_count": 80,
   "id": "866eb743-7e5a-4141-9f7f-cb10e0d1bad3",
   "metadata": {},
   "outputs": [],
   "source": [
    "Normal_xtrain=Normal.fit_transform(x_train)\n",
    "Normal_xtest=Normal.fit_transform(x_test)"
   ]
  },
  {
   "cell_type": "code",
   "execution_count": 110,
   "id": "8475393f-355a-4e85-8b5a-1cfa39e071e8",
   "metadata": {},
   "outputs": [
    {
     "data": {
      "text/plain": [
       "Lasso(alpha=0.1)"
      ]
     },
     "execution_count": 110,
     "metadata": {},
     "output_type": "execute_result"
    }
   ],
   "source": [
    "reg3 = linear_model.Lasso(alpha=0.1)\n",
    "reg3.fit(Normal_xtrain,y_train)"
   ]
  },
  {
   "cell_type": "code",
   "execution_count": 111,
   "id": "cbb6c1e5-1c0e-4dca-a31a-1120b05e4f32",
   "metadata": {},
   "outputs": [
    {
     "data": {
      "text/plain": [
       "0.5988536035020215"
      ]
     },
     "execution_count": 111,
     "metadata": {},
     "output_type": "execute_result"
    }
   ],
   "source": [
    "reg3.score(Normal_xtest,y_test)"
   ]
  },
  {
   "cell_type": "markdown",
   "id": "1d6278ed-7cb4-4933-8eba-726b689c7957",
   "metadata": {},
   "source": [
    "#### Standardization"
   ]
  },
  {
   "cell_type": "markdown",
   "id": "5d7d741c-b2cf-472d-a899-d89c7a1a1259",
   "metadata": {},
   "source": [
    "Standardization is another scaling method where the values are centered around the mean with a unit standard deviation. This means that the mean of the attribute becomes zero, and the resultant distribution has a unit standard deviation.\n",
    "* It centers data around the mean and scales to a standard deviation of 1\n",
    "* It is Useful when the distribution of the data is Gaussian or unknown\n",
    "* Less sensitive to outliers"
   ]
  },
  {
   "cell_type": "code",
   "execution_count": 117,
   "id": "6e29a33b-e94b-4943-ad70-3559f730a35e",
   "metadata": {},
   "outputs": [],
   "source": [
    "scaler=preprocessing.StandardScaler().fit(x_train)"
   ]
  },
  {
   "cell_type": "code",
   "execution_count": 121,
   "id": "96afc4dd-a332-4ed1-8485-82b20c58c84d",
   "metadata": {},
   "outputs": [],
   "source": [
    "xtrain_scaled=scaler.transform(x_train)\n",
    "xtest_scaled=scaler.transform(x_test)"
   ]
  },
  {
   "cell_type": "code",
   "execution_count": 122,
   "id": "e4f7e28b-7411-4baf-99a7-c8fea2917658",
   "metadata": {},
   "outputs": [
    {
     "data": {
      "text/plain": [
       "Lasso(alpha=0.1)"
      ]
     },
     "execution_count": 122,
     "metadata": {},
     "output_type": "execute_result"
    }
   ],
   "source": [
    "reg4 = linear_model.Lasso(alpha=0.1)\n",
    "reg4.fit(xtrain_scaled,y_train)"
   ]
  },
  {
   "cell_type": "code",
   "execution_count": 124,
   "id": "1bb936fb-92e1-4f60-be4d-e36ca750777b",
   "metadata": {},
   "outputs": [
    {
     "data": {
      "text/plain": [
       "0.6151129194062221"
      ]
     },
     "execution_count": 124,
     "metadata": {},
     "output_type": "execute_result"
    }
   ],
   "source": [
    "reg4.score(xtest_scaled,y_test)"
   ]
  },
  {
   "cell_type": "markdown",
   "id": "2ea388f2-b6c7-4fac-9973-08e469c37c4d",
   "metadata": {},
   "source": [
    "It appears that applying normalization and standardization to the the data did not bring about any significant changes. The Decision tree regressor, however, proved to be good at working with data with poor scaling. "
   ]
  },
  {
   "cell_type": "code",
   "execution_count": null,
   "id": "88a35e19-c48f-4198-b9d2-28e22df2f171",
   "metadata": {},
   "outputs": [],
   "source": []
  }
 ],
 "metadata": {
  "kernelspec": {
   "display_name": "Python 3 (ipykernel)",
   "language": "python",
   "name": "python3"
  },
  "language_info": {
   "codemirror_mode": {
    "name": "ipython",
    "version": 3
   },
   "file_extension": ".py",
   "mimetype": "text/x-python",
   "name": "python",
   "nbconvert_exporter": "python",
   "pygments_lexer": "ipython3",
   "version": "3.9.13"
  }
 },
 "nbformat": 4,
 "nbformat_minor": 5
}
